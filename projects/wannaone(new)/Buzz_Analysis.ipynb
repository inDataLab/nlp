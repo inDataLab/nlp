{
 "cells": [
  {
   "cell_type": "markdown",
   "metadata": {},
   "source": [
    "# <center> Buzz_Anaysis </center>\n"
   ]
  },
  {
   "cell_type": "markdown",
   "metadata": {},
   "source": [
    "<img src = 'https://i1.wp.com/www.mediawhat.co.kr/wp-content/uploads/2017/06/2017_0621-MW06롯데제과_워너원_광고모델_01.jpg?fit=700%2C420'>"
   ]
  },
  {
   "cell_type": "markdown",
   "metadata": {},
   "source": [
    "<center> *분석을 해줄 사람 나야나* </center>"
   ]
  },
  {
   "cell_type": "markdown",
   "metadata": {},
   "source": [
    "## Input Data"
   ]
  },
  {
   "cell_type": "code",
   "execution_count": 113,
   "metadata": {
    "collapsed": true
   },
   "outputs": [],
   "source": [
    "import pandas as pd\n",
    "import numpy as np\n",
    "import os\n",
    "import sys\n",
    "curDir = os.getcwd()\n",
    "path = \"/Users/EternalFlow/Desktop/indatalab/nlp/projects/wannaone(new)/result_data/predicted_170831_wannaOneDcInsideSorted_Soo_v2.xlsx\"\n",
    "original_file = path[path.rfind('/')+1:path.rfind('.')]\n",
    "df = pd.read_excel(path,encoding='utf-8')"
   ]
  },
  {
   "cell_type": "code",
   "execution_count": 116,
   "metadata": {
    "collapsed": true
   },
   "outputs": [],
   "source": [
    "date = df['date'].unique()"
   ]
  },
  {
   "cell_type": "code",
   "execution_count": 22,
   "metadata": {
    "collapsed": true
   },
   "outputs": [],
   "source": [
    "members = df['keyword'].unique()\n",
    "# members = np.delete(members,1) #nan이 있을경우 찾아서 지우세요 ㅜ"
   ]
  },
  {
   "cell_type": "code",
   "execution_count": 61,
   "metadata": {
    "collapsed": true
   },
   "outputs": [],
   "source": [
    "label = df['predict_label'].unique()"
   ]
  },
  {
   "cell_type": "markdown",
   "metadata": {},
   "source": [
    "## 전체 총괄"
   ]
  },
  {
   "cell_type": "code",
   "execution_count": 83,
   "metadata": {
    "collapsed": true,
    "scrolled": true
   },
   "outputs": [],
   "source": [
    "total_pos = sum(df['predict_label'] == 'POS')\n",
    "total_neu = sum(df['predict_label'] == 'NEU')\n",
    "total_neg = sum(df['predict_label'] == 'NEG')                "
   ]
  },
  {
   "cell_type": "code",
   "execution_count": 135,
   "metadata": {
    "collapsed": true
   },
   "outputs": [],
   "source": [
    "m_pos = [total_pos]\n",
    "m_neu = [total_neu]\n",
    "m_neg = [total_neg]\n",
    "for j in members:\n",
    "    m_pos.append(sum(((df['keyword']==j) & (df['predict_label']=='POS'))))\n",
    "    m_neu.append(sum(((df['keyword']==j) & (df['predict_label']=='NEU'))))\n",
    "    m_neg.append(sum(((df['keyword']==j) & (df['predict_label']=='NEG'))))"
   ]
  },
  {
   "cell_type": "code",
   "execution_count": 150,
   "metadata": {
    "collapsed": true
   },
   "outputs": [],
   "source": [
    "keywords = list(members)\n",
    "keywords.insert(0,'워너원')"
   ]
  },
  {
   "cell_type": "code",
   "execution_count": 156,
   "metadata": {
    "collapsed": true
   },
   "outputs": [],
   "source": [
    "total_result= pd.DataFrame({'POS':m_pos,'NEU':m_neu,'NEG':m_neg},index=keywords)"
   ]
  },
  {
   "cell_type": "code",
   "execution_count": 157,
   "metadata": {},
   "outputs": [
    {
     "data": {
      "text/html": [
       "<div>\n",
       "<style>\n",
       "    .dataframe thead tr:only-child th {\n",
       "        text-align: right;\n",
       "    }\n",
       "\n",
       "    .dataframe thead th {\n",
       "        text-align: left;\n",
       "    }\n",
       "\n",
       "    .dataframe tbody tr th {\n",
       "        vertical-align: top;\n",
       "    }\n",
       "</style>\n",
       "<table border=\"1\" class=\"dataframe\">\n",
       "  <thead>\n",
       "    <tr style=\"text-align: right;\">\n",
       "      <th></th>\n",
       "      <th>NEG</th>\n",
       "      <th>NEU</th>\n",
       "      <th>POS</th>\n",
       "    </tr>\n",
       "  </thead>\n",
       "  <tbody>\n",
       "    <tr>\n",
       "      <th>워너원</th>\n",
       "      <td>13895</td>\n",
       "      <td>111382</td>\n",
       "      <td>2975</td>\n",
       "    </tr>\n",
       "    <tr>\n",
       "      <th>김재환</th>\n",
       "      <td>428</td>\n",
       "      <td>4284</td>\n",
       "      <td>115</td>\n",
       "    </tr>\n",
       "    <tr>\n",
       "      <th>황성운</th>\n",
       "      <td>128</td>\n",
       "      <td>1537</td>\n",
       "      <td>39</td>\n",
       "    </tr>\n",
       "    <tr>\n",
       "      <th>강다니엘</th>\n",
       "      <td>778</td>\n",
       "      <td>6616</td>\n",
       "      <td>183</td>\n",
       "    </tr>\n",
       "    <tr>\n",
       "      <th>옹성우</th>\n",
       "      <td>207</td>\n",
       "      <td>2791</td>\n",
       "      <td>75</td>\n",
       "    </tr>\n",
       "    <tr>\n",
       "      <th>라이관린</th>\n",
       "      <td>95</td>\n",
       "      <td>1051</td>\n",
       "      <td>49</td>\n",
       "    </tr>\n",
       "    <tr>\n",
       "      <th>배진영</th>\n",
       "      <td>39</td>\n",
       "      <td>409</td>\n",
       "      <td>7</td>\n",
       "    </tr>\n",
       "    <tr>\n",
       "      <th>박지훈</th>\n",
       "      <td>74</td>\n",
       "      <td>928</td>\n",
       "      <td>25</td>\n",
       "    </tr>\n",
       "    <tr>\n",
       "      <th>황민현</th>\n",
       "      <td>25</td>\n",
       "      <td>574</td>\n",
       "      <td>14</td>\n",
       "    </tr>\n",
       "    <tr>\n",
       "      <th>윤지성</th>\n",
       "      <td>275</td>\n",
       "      <td>1315</td>\n",
       "      <td>21</td>\n",
       "    </tr>\n",
       "    <tr>\n",
       "      <th>이대휘</th>\n",
       "      <td>132</td>\n",
       "      <td>1491</td>\n",
       "      <td>44</td>\n",
       "    </tr>\n",
       "    <tr>\n",
       "      <th>박우진</th>\n",
       "      <td>6</td>\n",
       "      <td>164</td>\n",
       "      <td>6</td>\n",
       "    </tr>\n",
       "  </tbody>\n",
       "</table>\n",
       "</div>"
      ],
      "text/plain": [
       "        NEG     NEU   POS\n",
       "워너원   13895  111382  2975\n",
       "김재환     428    4284   115\n",
       "황성운     128    1537    39\n",
       "강다니엘    778    6616   183\n",
       "옹성우     207    2791    75\n",
       "라이관린     95    1051    49\n",
       "배진영      39     409     7\n",
       "박지훈      74     928    25\n",
       "황민현      25     574    14\n",
       "윤지성     275    1315    21\n",
       "이대휘     132    1491    44\n",
       "박우진       6     164     6"
      ]
     },
     "execution_count": 157,
     "metadata": {},
     "output_type": "execute_result"
    }
   ],
   "source": [
    "total_result"
   ]
  },
  {
   "cell_type": "markdown",
   "metadata": {},
   "source": [
    "## 멤버별 날짜 순 정렬"
   ]
  },
  {
   "cell_type": "code",
   "execution_count": 101,
   "metadata": {
    "collapsed": true
   },
   "outputs": [],
   "source": [
    "c = 0\n",
    "result = []\n",
    "for j in members:\n",
    "    result.append([])\n",
    "    for i in date:\n",
    "        pos = sum((df['date']==i) & (df['keyword']==j) & (df['predict_label']=='POS'))\n",
    "        neu = sum((df['date']==i) & (df['keyword']==j) & (df['predict_label']=='NEU'))\n",
    "        neg = sum((df['date']==i) & (df['keyword']==j) & (df['predict_label']=='NEG'))\n",
    "        result[c].append([i,pos,neu,neg])\n",
    "    c += 1"
   ]
  },
  {
   "cell_type": "markdown",
   "metadata": {},
   "source": [
    "## Export Data"
   ]
  },
  {
   "cell_type": "code",
   "execution_count": 155,
   "metadata": {},
   "outputs": [
    {
     "name": "stdout",
     "output_type": "stream",
     "text": [
      "김재환\n",
      "황성운\n",
      "강다니엘\n",
      "옹성우\n",
      "라이관린\n",
      "배진영\n",
      "박지훈\n",
      "황민현\n",
      "윤지성\n",
      "이대휘\n",
      "박우진\n"
     ]
    }
   ],
   "source": [
    "writer = pd.ExcelWriter(curDir+original_file+'_buzz.xlsx')\n",
    "total_result.to_excel(writer,'total_result')\n",
    "for i in range(len(members)):\n",
    "    subset = pd.DataFrame(data=result[i],columns=['date','POS','NEU','NEG'])\n",
    "    subset.to_excel(writer,members[i])\n",
    "    print(members[i])\n",
    "writer.save()"
   ]
  },
  {
   "cell_type": "markdown",
   "metadata": {},
   "source": [
    "> BUZZ ANALYSIS - working data: wannaoneDC, made by Taeju Lee"
   ]
  }
 ],
 "metadata": {
  "kernelspec": {
   "display_name": "Python 3",
   "language": "python",
   "name": "python3"
  },
  "language_info": {
   "codemirror_mode": {
    "name": "ipython",
    "version": 3
   },
   "file_extension": ".py",
   "mimetype": "text/x-python",
   "name": "python",
   "nbconvert_exporter": "python",
   "pygments_lexer": "ipython3",
   "version": "3.6.1"
  }
 },
 "nbformat": 4,
 "nbformat_minor": 2
}
