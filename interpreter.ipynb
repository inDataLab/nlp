{
 "cells": [
  {
   "cell_type": "code",
   "execution_count": 1,
   "metadata": {
    "collapsed": true
   },
   "outputs": [],
   "source": [
    "# 만들어진 모델을 불러오는데 필요한 코드\n",
    "import pickle\n",
    "import os\n",
    "from konlpy.tag import Twitter\n",
    "twit = Twitter()\n",
    "def tokenizer(text):\n",
    "    return twit.morphs(text)\n",
    "\n",
    "curDir = os.getcwd() # curDir = 현재 경로 / 폴더명1 / 폴더명 2 / 파일명.pkl\n",
    "model = pickle.load(open(os.path.join(curDir,'mixed_model.pkl'),'rb')) # call model\n",
    "tfidf = pickle.load(open(os.path.join(curDir,'tfidf.pkl'),'rb')) # call vectorizer"
   ]
  },
  {
   "cell_type": "code",
   "execution_count": 2,
   "metadata": {
    "collapsed": true
   },
   "outputs": [],
   "source": [
    "def sentiment_test():\n",
    "    test = input(\"문장을 입력해주세요: \")\n",
    "    string_test = tfidf.transform([test])\n",
    "    result_test = model.predict(string_test)\n",
    "    resultp_test = model.predict_proba(string_test)\n",
    "    result = int(round((resultp_test[0][1] - resultp_test[0][0]),2)*100)\n",
    "    return result"
   ]
  },
  {
   "cell_type": "code",
   "execution_count": null,
   "metadata": {},
   "outputs": [],
   "source": [
    "sentiment_test()"
   ]
  },
  {
   "cell_type": "code",
   "execution_count": null,
   "metadata": {
    "collapsed": true
   },
   "outputs": [],
   "source": []
  }
 ],
 "metadata": {
  "kernelspec": {
   "display_name": "Python 3",
   "language": "python",
   "name": "python3"
  },
  "language_info": {
   "codemirror_mode": {
    "name": "ipython",
    "version": 3
   },
   "file_extension": ".py",
   "mimetype": "text/x-python",
   "name": "python",
   "nbconvert_exporter": "python",
   "pygments_lexer": "ipython3",
   "version": "3.6.1"
  }
 },
 "nbformat": 4,
 "nbformat_minor": 2
}
